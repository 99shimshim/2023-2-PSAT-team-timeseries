{
 "cells": [
  {
   "cell_type": "markdown",
   "id": "571289cb",
   "metadata": {},
   "source": [
    "# 유사도 계산으로 판례댓글과 유사한 일반댓글 필터링"
   ]
  },
  {
   "cell_type": "code",
   "execution_count": 108,
   "id": "abe580d7",
   "metadata": {},
   "outputs": [],
   "source": [
    "import pandas as pd\n",
    "import numpy as np"
   ]
  },
  {
   "cell_type": "code",
   "execution_count": 109,
   "id": "3b1d5acd",
   "metadata": {},
   "outputs": [
    {
     "name": "stderr",
     "output_type": "stream",
     "text": [
      "\n",
      "KeyboardInterrupt\n",
      "\n"
     ]
    }
   ],
   "source": [
    "dat = pd.read_csv('C:/Users/mrg07/Downloads/유사도계산.csv')"
   ]
  },
  {
   "cell_type": "code",
   "execution_count": 172,
   "id": "88dba8c5",
   "metadata": {},
   "outputs": [],
   "source": [
    "df_origin_innocent = pd.read_csv('C:/Users/mrg07/Desktop/innocent_유머.csv', encoding = 'cp949')\n",
    "df_origin_innocent.columns = ['comments', 'year']"
   ]
  },
  {
   "cell_type": "code",
   "execution_count": 117,
   "id": "05ade309",
   "metadata": {},
   "outputs": [],
   "source": [
    "dat[\"label0\"] = dat[\"label0\"].astype(\"str\")\n",
    "dat[\"label1\"] = dat[\"label1\"].astype(\"str\")\n",
    "df_origin_innocent[\"comments\"] = df_origin_innocent[\"comments\"].astype(\"str\")\n",
    "\n",
    "# 왜인지 label 열에 숫자형 데이터가 남아있어서 한번 싹 형변환!"
   ]
  },
  {
   "cell_type": "code",
   "execution_count": 112,
   "id": "576214c5",
   "metadata": {},
   "outputs": [
    {
     "data": {
      "text/plain": [
       "475097"
      ]
     },
     "execution_count": 112,
     "metadata": {},
     "output_type": "execute_result"
    }
   ],
   "source": [
    "len(df_origin_innocent)"
   ]
  },
  {
   "cell_type": "code",
   "execution_count": 118,
   "id": "01e12dce",
   "metadata": {},
   "outputs": [
    {
     "name": "stdout",
     "output_type": "stream",
     "text": [
      "4127\n",
      "295\n"
     ]
    }
   ],
   "source": [
    "dat['length'] = dat['label0'].apply(len)\n",
    "print(dat['length'].max())\n",
    "dat = dat[dat['length'] <= 300]\n",
    "print(dat['length'].max())\n",
    "dat = dat.drop('length', axis = 1)"
   ]
  },
  {
   "cell_type": "code",
   "execution_count": 119,
   "id": "10be5ecb",
   "metadata": {},
   "outputs": [
    {
     "name": "stdout",
     "output_type": "stream",
     "text": [
      "300\n",
      "300\n"
     ]
    }
   ],
   "source": [
    "df_origin_innocent['length'] = df_origin_innocent['comments'].apply(len)\n",
    "print(df_origin_innocent['length'].max())\n",
    "df_origin_innocent = df_origin_innocent[df_origin_innocent['length'] <= 300]\n",
    "print(df_origin_innocent['length'].max())\n",
    "df_origin_innocent = df_origin_innocent.drop('length', axis = 1)"
   ]
  },
  {
   "cell_type": "code",
   "execution_count": 120,
   "id": "5126c2ec",
   "metadata": {},
   "outputs": [],
   "source": [
    "import seaborn as sns\n",
    "# sns.histplot(dat['score'], color='brown')"
   ]
  },
  {
   "cell_type": "markdown",
   "id": "f9f5309a",
   "metadata": {},
   "source": [
    "## 전처리"
   ]
  },
  {
   "cell_type": "code",
   "execution_count": 121,
   "id": "7e55fc2f",
   "metadata": {},
   "outputs": [],
   "source": [
    "# label=0 (비속어) 지우기\n",
    "\n",
    "import re\n",
    "\n",
    "def remove_(sentence):\n",
    "    pattern = r'\\([^)]*\\)'\n",
    "    filtered_sentence = re.sub(pattern=pattern, repl=\"\", string=sentence)\n",
    "    \n",
    "    return filtered_sentence\n",
    "\n",
    "dat['label0']=dat['label0'].apply(remove_)\n",
    "df_origin_innocent['comments']=df_origin_innocent['comments'].apply(remove_)"
   ]
  },
  {
   "cell_type": "code",
   "execution_count": 129,
   "id": "ca27ca9b",
   "metadata": {},
   "outputs": [],
   "source": [
    "dat[\"label0\"] = dat[\"label0\"].apply(lambda x : ' '.join(x.split()))\n",
    "df_origin_innocent[\"comments\"] = df_origin_innocent[\"comments\"].apply(lambda x : ' '.join(x.split()))\n",
    "\n",
    "# 다중 공백 제거"
   ]
  },
  {
   "cell_type": "code",
   "execution_count": 131,
   "id": "82d7624d",
   "metadata": {},
   "outputs": [
    {
     "data": {
      "text/plain": [
       "25571340"
      ]
     },
     "execution_count": 131,
     "metadata": {},
     "output_type": "execute_result"
    }
   ],
   "source": [
    "len(dat)"
   ]
  },
  {
   "cell_type": "markdown",
   "id": "c39b4200",
   "metadata": {},
   "source": [
    "## 유사도 결과"
   ]
  },
  {
   "cell_type": "code",
   "execution_count": 133,
   "id": "797fae1b",
   "metadata": {},
   "outputs": [],
   "source": [
    "def get_top5_mean(x):\n",
    "     return x.sort_values('score', ascending=False)[[\"score\"]][:5].mean()\n",
    "\n",
    "\n",
    "a=dat.groupby(\"label0\").apply(get_top5_mean)\n",
    "a = a.reset_index()\n",
    "a = a.sort_values('score', ascending=False).reset_index(drop=True)"
   ]
  },
  {
   "cell_type": "code",
   "execution_count": 134,
   "id": "7a589471",
   "metadata": {},
   "outputs": [],
   "source": [
    "pd.set_option('display.max_colwidth', None)"
   ]
  },
  {
   "cell_type": "code",
   "execution_count": 135,
   "id": "59ee497c",
   "metadata": {},
   "outputs": [],
   "source": [
    "innocent = a.loc[:854]\n",
    "#n은 일반 판례 개수"
   ]
  },
  {
   "cell_type": "code",
   "execution_count": 136,
   "id": "403e7b5c",
   "metadata": {},
   "outputs": [
    {
     "data": {
      "text/html": [
       "<div>\n",
       "<style scoped>\n",
       "    .dataframe tbody tr th:only-of-type {\n",
       "        vertical-align: middle;\n",
       "    }\n",
       "\n",
       "    .dataframe tbody tr th {\n",
       "        vertical-align: top;\n",
       "    }\n",
       "\n",
       "    .dataframe thead th {\n",
       "        text-align: right;\n",
       "    }\n",
       "</style>\n",
       "<table border=\"1\" class=\"dataframe\">\n",
       "  <thead>\n",
       "    <tr style=\"text-align: right;\">\n",
       "      <th></th>\n",
       "      <th>label0</th>\n",
       "      <th>score</th>\n",
       "    </tr>\n",
       "  </thead>\n",
       "  <tbody>\n",
       "    <tr>\n",
       "      <th>0</th>\n",
       "      <td>야이 개때끼야</td>\n",
       "      <td>0.763758</td>\n",
       "    </tr>\n",
       "    <tr>\n",
       "      <th>1</th>\n",
       "      <td>진짜 개같에</td>\n",
       "      <td>0.700923</td>\n",
       "    </tr>\n",
       "    <tr>\n",
       "      <th>2</th>\n",
       "      <td>개색</td>\n",
       "      <td>0.687995</td>\n",
       "    </tr>\n",
       "    <tr>\n",
       "      <th>3</th>\n",
       "      <td>뭐여이게 개 새 키 뭐얔</td>\n",
       "      <td>0.665487</td>\n",
       "    </tr>\n",
       "    <tr>\n",
       "      <th>4</th>\n",
       "      <td>현석 어떻게된거야</td>\n",
       "      <td>0.653540</td>\n",
       "    </tr>\n",
       "  </tbody>\n",
       "</table>\n",
       "</div>"
      ],
      "text/plain": [
       "          label0     score\n",
       "0        야이 개때끼야  0.763758\n",
       "1         진짜 개같에  0.700923\n",
       "2             개색  0.687995\n",
       "3  뭐여이게 개 새 키 뭐얔  0.665487\n",
       "4      현석 어떻게된거야  0.653540"
      ]
     },
     "execution_count": 136,
     "metadata": {},
     "output_type": "execute_result"
    }
   ],
   "source": [
    "innocent.head()"
   ]
  },
  {
   "cell_type": "code",
   "execution_count": 137,
   "id": "cb341ce6",
   "metadata": {},
   "outputs": [],
   "source": [
    "import seaborn as sns\n",
    "# sns.histplot(innocent['score'], color='brown')"
   ]
  },
  {
   "cell_type": "code",
   "execution_count": 138,
   "id": "83674bb1",
   "metadata": {},
   "outputs": [
    {
     "name": "stderr",
     "output_type": "stream",
     "text": [
      "C:\\Users\\mrg07\\AppData\\Local\\Temp\\ipykernel_7504\\313803156.py:1: SettingWithCopyWarning: \n",
      "A value is trying to be set on a copy of a slice from a DataFrame\n",
      "\n",
      "See the caveats in the documentation: https://pandas.pydata.org/pandas-docs/stable/user_guide/indexing.html#returning-a-view-versus-a-copy\n",
      "  innocent.drop('score', axis = 1, inplace = True)\n"
     ]
    }
   ],
   "source": [
    "innocent.drop('score', axis = 1, inplace = True)\n",
    "innocent.columns = ['comments']"
   ]
  },
  {
   "cell_type": "code",
   "execution_count": null,
   "id": "9c6a83de",
   "metadata": {},
   "outputs": [],
   "source": []
  },
  {
   "cell_type": "markdown",
   "id": "fefa9574",
   "metadata": {},
   "source": [
    "### 일반댓글 길이와 연도 파생변수 붙이기"
   ]
  },
  {
   "cell_type": "code",
   "execution_count": 140,
   "id": "d6d9a468",
   "metadata": {},
   "outputs": [
    {
     "name": "stderr",
     "output_type": "stream",
     "text": [
      "C:\\Users\\mrg07\\AppData\\Local\\Temp\\ipykernel_7504\\4245080826.py:3: SettingWithCopyWarning: \n",
      "A value is trying to be set on a copy of a slice from a DataFrame.\n",
      "Try using .loc[row_indexer,col_indexer] = value instead\n",
      "\n",
      "See the caveats in the documentation: https://pandas.pydata.org/pandas-docs/stable/user_guide/indexing.html#returning-a-view-versus-a-copy\n",
      "  innocent['length'] = innocent['comments'].apply(len)\n"
     ]
    }
   ],
   "source": [
    "# 길이 붙이기\n",
    "#innocent['comments'] = innocent['comments'].astype(str)\n",
    "innocent['length'] = innocent['comments'].apply(len)"
   ]
  },
  {
   "cell_type": "code",
   "execution_count": null,
   "id": "fedcde7e",
   "metadata": {},
   "outputs": [],
   "source": []
  },
  {
   "cell_type": "code",
   "execution_count": 144,
   "id": "7b99abf7",
   "metadata": {},
   "outputs": [
    {
     "data": {
      "text/plain": [
       "449833"
      ]
     },
     "execution_count": 144,
     "metadata": {},
     "output_type": "execute_result"
    }
   ],
   "source": [
    "df_origin_innocent = df_origin_innocent.drop_duplicates('comments').reset_index(drop=True)\n",
    "len(df_origin_innocent)"
   ]
  },
  {
   "cell_type": "code",
   "execution_count": 145,
   "id": "08a58286",
   "metadata": {},
   "outputs": [
    {
     "data": {
      "text/plain": [
       "comments    0\n",
       "year        0\n",
       "dtype: int64"
      ]
     },
     "execution_count": 145,
     "metadata": {},
     "output_type": "execute_result"
    }
   ],
   "source": [
    "df_origin_innocent.isna().sum()"
   ]
  },
  {
   "cell_type": "code",
   "execution_count": 146,
   "id": "a02f2804",
   "metadata": {},
   "outputs": [],
   "source": [
    "# 연도 앞 4개만 가져옴\n",
    "df_origin_innocent['year'] = df_origin_innocent['year'].str[0:4].astype(int)"
   ]
  },
  {
   "cell_type": "code",
   "execution_count": 147,
   "id": "77558c06",
   "metadata": {},
   "outputs": [
    {
     "data": {
      "text/html": [
       "<div>\n",
       "<style scoped>\n",
       "    .dataframe tbody tr th:only-of-type {\n",
       "        vertical-align: middle;\n",
       "    }\n",
       "\n",
       "    .dataframe tbody tr th {\n",
       "        vertical-align: top;\n",
       "    }\n",
       "\n",
       "    .dataframe thead th {\n",
       "        text-align: right;\n",
       "    }\n",
       "</style>\n",
       "<table border=\"1\" class=\"dataframe\">\n",
       "  <thead>\n",
       "    <tr style=\"text-align: right;\">\n",
       "      <th></th>\n",
       "      <th>comments</th>\n",
       "      <th>year</th>\n",
       "    </tr>\n",
       "  </thead>\n",
       "  <tbody>\n",
       "    <tr>\n",
       "      <th>0</th>\n",
       "      <td>보물섬분들도 많이 받으세여어어어어어잇...</td>\n",
       "      <td>2021</td>\n",
       "    </tr>\n",
       "    <tr>\n",
       "      <th>1</th>\n",
       "      <td>팝콘 사세요</td>\n",
       "      <td>2021</td>\n",
       "    </tr>\n",
       "    <tr>\n",
       "      <th>2</th>\n",
       "      <td>메리 크리스마스.</td>\n",
       "      <td>2021</td>\n",
       "    </tr>\n",
       "    <tr>\n",
       "      <th>3</th>\n",
       "      <td>해피 할로윈</td>\n",
       "      <td>2021</td>\n",
       "    </tr>\n",
       "    <tr>\n",
       "      <th>4</th>\n",
       "      <td>세복많이 받으세용</td>\n",
       "      <td>2021</td>\n",
       "    </tr>\n",
       "    <tr>\n",
       "      <th>...</th>\n",
       "      <td>...</td>\n",
       "      <td>...</td>\n",
       "    </tr>\n",
       "    <tr>\n",
       "      <th>449828</th>\n",
       "      <td>와 대박 역시 폭소바겐</td>\n",
       "      <td>2020</td>\n",
       "    </tr>\n",
       "    <tr>\n",
       "      <th>449829</th>\n",
       "      <td>여태까지 본것중에 이게 제일 잘생김</td>\n",
       "      <td>2020</td>\n",
       "    </tr>\n",
       "    <tr>\n",
       "      <th>449830</th>\n",
       "      <td>와, 공감</td>\n",
       "      <td>2020</td>\n",
       "    </tr>\n",
       "    <tr>\n",
       "      <th>449831</th>\n",
       "      <td>티나도 끝까지 보게되는 개마성</td>\n",
       "      <td>2020</td>\n",
       "    </tr>\n",
       "    <tr>\n",
       "      <th>449832</th>\n",
       "      <td>인정, 항상 이생각</td>\n",
       "      <td>2020</td>\n",
       "    </tr>\n",
       "  </tbody>\n",
       "</table>\n",
       "<p>449833 rows × 2 columns</p>\n",
       "</div>"
      ],
      "text/plain": [
       "                       comments  year\n",
       "0       보물섬분들도 많이 받으세여어어어어어잇...  2021\n",
       "1                        팝콘 사세요  2021\n",
       "2                     메리 크리스마스.  2021\n",
       "3                        해피 할로윈  2021\n",
       "4                     세복많이 받으세용  2021\n",
       "...                         ...   ...\n",
       "449828             와 대박 역시 폭소바겐  2020\n",
       "449829      여태까지 본것중에 이게 제일 잘생김  2020\n",
       "449830                    와, 공감  2020\n",
       "449831         티나도 끝까지 보게되는 개마성  2020\n",
       "449832               인정, 항상 이생각  2020\n",
       "\n",
       "[449833 rows x 2 columns]"
      ]
     },
     "execution_count": 147,
     "metadata": {},
     "output_type": "execute_result"
    }
   ],
   "source": [
    "df_origin_innocent"
   ]
  },
  {
   "cell_type": "code",
   "execution_count": 148,
   "id": "16a8abe1",
   "metadata": {},
   "outputs": [
    {
     "name": "stdout",
     "output_type": "stream",
     "text": [
      "855\n"
     ]
    }
   ],
   "source": [
    "asdf = pd.merge(innocent, df_origin_innocent, how = 'left', on=['comments'])\n",
    "asdf.head()\n",
    "print(len(asdf))"
   ]
  },
  {
   "cell_type": "code",
   "execution_count": 150,
   "id": "9e45f63a",
   "metadata": {},
   "outputs": [
    {
     "data": {
      "text/plain": [
       "comments    0\n",
       "length      0\n",
       "year        2\n",
       "dtype: int64"
      ]
     },
     "execution_count": 150,
     "metadata": {},
     "output_type": "execute_result"
    }
   ],
   "source": [
    "asdf.isna().sum()"
   ]
  },
  {
   "cell_type": "markdown",
   "id": "99a4bc42",
   "metadata": {},
   "source": [
    "아직도 결측치 있어 ㅠㅠ"
   ]
  },
  {
   "cell_type": "code",
   "execution_count": 151,
   "id": "2abe23d1",
   "metadata": {},
   "outputs": [
    {
     "data": {
      "text/html": [
       "<div>\n",
       "<style scoped>\n",
       "    .dataframe tbody tr th:only-of-type {\n",
       "        vertical-align: middle;\n",
       "    }\n",
       "\n",
       "    .dataframe tbody tr th {\n",
       "        vertical-align: top;\n",
       "    }\n",
       "\n",
       "    .dataframe thead th {\n",
       "        text-align: right;\n",
       "    }\n",
       "</style>\n",
       "<table border=\"1\" class=\"dataframe\">\n",
       "  <thead>\n",
       "    <tr style=\"text-align: right;\">\n",
       "      <th></th>\n",
       "      <th>comments</th>\n",
       "      <th>length</th>\n",
       "      <th>year</th>\n",
       "    </tr>\n",
       "  </thead>\n",
       "  <tbody>\n",
       "    <tr>\n",
       "      <th>396</th>\n",
       "      <td>안녕하세요 보섬대학교에 재학 중인 피해자입니다 지금 이 영상의 주인공인 보물섬들 선배들에게 학교 폭력을 당해왔습니다 야 이 개 시 치킨 안 사와 등 협박과 셔틀은 하루에 10번 씩 당해왔습니다 제가 저항하면 보물섬 선배들이 무리를 끌고 와서 집단 구타를 했습니다. 제가 제발 그만하달라고 외쳤는데 보물섬 선배들이 그치만 이렇게 하지 않으면 나에게 관심이 없는 걸, 그래서 전 손나나, 그럴리가없잖아 난 매일 매일 너에게 치킨을 먹일려고 너에게 관심을 얻으랴고 했다구, 그러곤 방관하시던 이 5252 썩 보가 좋은 관경이러군</td>\n",
       "      <td>292</td>\n",
       "      <td>NaN</td>\n",
       "    </tr>\n",
       "    <tr>\n",
       "      <th>406</th>\n",
       "      <td>아니 진치충인 들 많네 뭐 신고고 나발이고 니들 빠다로 후려쳐버리고 싶은데 이고 뭐고간에 재미있었음 됬지 싸부리네 댓글 읽으면서 쪼겠다 그리고 장난이 도를 넘었다는 들아, 사람들이 생각하는 장난 의 기준은 다 달라 아니 뭔 도를 넘어 좋게좋게 넘어갔음 된거고 하튼 는거 보기 싫으니까 제발 니들생각은 니들 안에 쳐넣고 쌉쳐</td>\n",
       "      <td>180</td>\n",
       "      <td>NaN</td>\n",
       "    </tr>\n",
       "  </tbody>\n",
       "</table>\n",
       "</div>"
      ],
      "text/plain": [
       "                                                                                                                                                                                                                                                                                                 comments  \\\n",
       "396  안녕하세요 보섬대학교에 재학 중인 피해자입니다 지금 이 영상의 주인공인 보물섬들 선배들에게 학교 폭력을 당해왔습니다 야 이 개 시 치킨 안 사와 등 협박과 셔틀은 하루에 10번 씩 당해왔습니다 제가 저항하면 보물섬 선배들이 무리를 끌고 와서 집단 구타를 했습니다. 제가 제발 그만하달라고 외쳤는데 보물섬 선배들이 그치만 이렇게 하지 않으면 나에게 관심이 없는 걸, 그래서 전 손나나, 그럴리가없잖아 난 매일 매일 너에게 치킨을 먹일려고 너에게 관심을 얻으랴고 했다구, 그러곤 방관하시던 이 5252 썩 보가 좋은 관경이러군   \n",
       "406                                                                                                                  아니 진치충인 들 많네 뭐 신고고 나발이고 니들 빠다로 후려쳐버리고 싶은데 이고 뭐고간에 재미있었음 됬지 싸부리네 댓글 읽으면서 쪼겠다 그리고 장난이 도를 넘었다는 들아, 사람들이 생각하는 장난 의 기준은 다 달라 아니 뭔 도를 넘어 좋게좋게 넘어갔음 된거고 하튼 는거 보기 싫으니까 제발 니들생각은 니들 안에 쳐넣고 쌉쳐   \n",
       "\n",
       "     length  year  \n",
       "396     292   NaN  \n",
       "406     180   NaN  "
      ]
     },
     "execution_count": 151,
     "metadata": {},
     "output_type": "execute_result"
    }
   ],
   "source": [
    "asdf[asdf.isna().any(axis=1)]"
   ]
  },
  {
   "cell_type": "code",
   "execution_count": null,
   "id": "b3fc155b",
   "metadata": {},
   "outputs": [],
   "source": [
    "# 이건 그냥 직접 붙이자......."
   ]
  },
  {
   "cell_type": "code",
   "execution_count": null,
   "id": "7eb99ba0",
   "metadata": {},
   "outputs": [],
   "source": []
  },
  {
   "cell_type": "markdown",
   "id": "6ede2e16",
   "metadata": {},
   "source": [
    "### 판례댓글과 일반댓글 결합"
   ]
  },
  {
   "cell_type": "code",
   "execution_count": 153,
   "id": "adcede94",
   "metadata": {},
   "outputs": [],
   "source": [
    "df = pd.read_csv('C:/Users/mrg07/Desktop/유무죄전까지_1111.csv')"
   ]
  },
  {
   "cell_type": "code",
   "execution_count": 154,
   "id": "8c5351c0",
   "metadata": {},
   "outputs": [
    {
     "data": {
      "text/plain": [
       "855"
      ]
     },
     "execution_count": 154,
     "metadata": {},
     "output_type": "execute_result"
    }
   ],
   "source": [
    "len(df)"
   ]
  },
  {
   "cell_type": "code",
   "execution_count": 155,
   "id": "db829874",
   "metadata": {},
   "outputs": [],
   "source": [
    "df.drop('guilty', axis = 1, inplace = True)"
   ]
  },
  {
   "cell_type": "code",
   "execution_count": 156,
   "id": "6ec7ee65",
   "metadata": {},
   "outputs": [
    {
     "data": {
      "text/plain": [
       "Index(['text', '선고년도', 'comments', 'length'], dtype='object')"
      ]
     },
     "execution_count": 156,
     "metadata": {},
     "output_type": "execute_result"
    }
   ],
   "source": [
    "df.columns"
   ]
  },
  {
   "cell_type": "code",
   "execution_count": 157,
   "id": "44a111dd",
   "metadata": {},
   "outputs": [],
   "source": [
    "df.columns = ['text', 'year', 'comments', 'length']"
   ]
  },
  {
   "cell_type": "code",
   "execution_count": 158,
   "id": "fdeac66a",
   "metadata": {},
   "outputs": [],
   "source": [
    "df_final_1111 = pd.concat([df, asdf]).reset_index(drop=True)"
   ]
  },
  {
   "cell_type": "code",
   "execution_count": 166,
   "id": "5ee2a003",
   "metadata": {},
   "outputs": [
    {
     "data": {
      "text/html": [
       "<div>\n",
       "<style scoped>\n",
       "    .dataframe tbody tr th:only-of-type {\n",
       "        vertical-align: middle;\n",
       "    }\n",
       "\n",
       "    .dataframe tbody tr th {\n",
       "        vertical-align: top;\n",
       "    }\n",
       "\n",
       "    .dataframe thead th {\n",
       "        text-align: right;\n",
       "    }\n",
       "</style>\n",
       "<table border=\"1\" class=\"dataframe\">\n",
       "  <thead>\n",
       "    <tr style=\"text-align: right;\">\n",
       "      <th></th>\n",
       "      <th>text</th>\n",
       "      <th>year</th>\n",
       "      <th>comments</th>\n",
       "      <th>length</th>\n",
       "    </tr>\n",
       "  </thead>\n",
       "  <tbody>\n",
       "    <tr>\n",
       "      <th>1251</th>\n",
       "      <td>NaN</td>\n",
       "      <td>NaN</td>\n",
       "      <td>안녕하세요 보섬대학교에 재학 중인 피해자입니다 지금 이 영상의 주인공인 보물섬들 선배들에게 학교 폭력을 당해왔습니다 야 이 개 시 치킨 안 사와 등 협박과 셔틀은 하루에 10번 씩 당해왔습니다 제가 저항하면 보물섬 선배들이 무리를 끌고 와서 집단 구타를 했습니다. 제가 제발 그만하달라고 외쳤는데 보물섬 선배들이 그치만 이렇게 하지 않으면 나에게 관심이 없는 걸, 그래서 전 손나나, 그럴리가없잖아 난 매일 매일 너에게 치킨을 먹일려고 너에게 관심을 얻으랴고 했다구, 그러곤 방관하시던 이 5252 썩 보가 좋은 관경이러군</td>\n",
       "      <td>292</td>\n",
       "    </tr>\n",
       "    <tr>\n",
       "      <th>1261</th>\n",
       "      <td>NaN</td>\n",
       "      <td>NaN</td>\n",
       "      <td>아니 진치충인 들 많네 뭐 신고고 나발이고 니들 빠다로 후려쳐버리고 싶은데 이고 뭐고간에 재미있었음 됬지 싸부리네 댓글 읽으면서 쪼겠다 그리고 장난이 도를 넘었다는 들아, 사람들이 생각하는 장난 의 기준은 다 달라 아니 뭔 도를 넘어 좋게좋게 넘어갔음 된거고 하튼 는거 보기 싫으니까 제발 니들생각은 니들 안에 쳐넣고 쌉쳐</td>\n",
       "      <td>180</td>\n",
       "    </tr>\n",
       "  </tbody>\n",
       "</table>\n",
       "</div>"
      ],
      "text/plain": [
       "     text  year  \\\n",
       "1251  NaN   NaN   \n",
       "1261  NaN   NaN   \n",
       "\n",
       "                                                                                                                                                                                                                                                                                                  comments  \\\n",
       "1251  안녕하세요 보섬대학교에 재학 중인 피해자입니다 지금 이 영상의 주인공인 보물섬들 선배들에게 학교 폭력을 당해왔습니다 야 이 개 시 치킨 안 사와 등 협박과 셔틀은 하루에 10번 씩 당해왔습니다 제가 저항하면 보물섬 선배들이 무리를 끌고 와서 집단 구타를 했습니다. 제가 제발 그만하달라고 외쳤는데 보물섬 선배들이 그치만 이렇게 하지 않으면 나에게 관심이 없는 걸, 그래서 전 손나나, 그럴리가없잖아 난 매일 매일 너에게 치킨을 먹일려고 너에게 관심을 얻으랴고 했다구, 그러곤 방관하시던 이 5252 썩 보가 좋은 관경이러군   \n",
       "1261                                                                                                                  아니 진치충인 들 많네 뭐 신고고 나발이고 니들 빠다로 후려쳐버리고 싶은데 이고 뭐고간에 재미있었음 됬지 싸부리네 댓글 읽으면서 쪼겠다 그리고 장난이 도를 넘었다는 들아, 사람들이 생각하는 장난 의 기준은 다 달라 아니 뭔 도를 넘어 좋게좋게 넘어갔음 된거고 하튼 는거 보기 싫으니까 제발 니들생각은 니들 안에 쳐넣고 쌉쳐   \n",
       "\n",
       "      length  \n",
       "1251     292  \n",
       "1261     180  "
      ]
     },
     "execution_count": 166,
     "metadata": {},
     "output_type": "execute_result"
    }
   ],
   "source": [
    "df_final_1111[df_final_1111['year'].isna()]"
   ]
  },
  {
   "cell_type": "code",
   "execution_count": 181,
   "id": "f80b79f3",
   "metadata": {},
   "outputs": [],
   "source": [
    "df_final_1111.at[1251, 'year'] = 2019"
   ]
  },
  {
   "cell_type": "code",
   "execution_count": 182,
   "id": "041a8cdf",
   "metadata": {},
   "outputs": [],
   "source": [
    "df_final_1111.at[1261, 'year'] = 2018"
   ]
  },
  {
   "cell_type": "code",
   "execution_count": 183,
   "id": "9d090b75",
   "metadata": {},
   "outputs": [
    {
     "data": {
      "text/html": [
       "<div>\n",
       "<style scoped>\n",
       "    .dataframe tbody tr th:only-of-type {\n",
       "        vertical-align: middle;\n",
       "    }\n",
       "\n",
       "    .dataframe tbody tr th {\n",
       "        vertical-align: top;\n",
       "    }\n",
       "\n",
       "    .dataframe thead th {\n",
       "        text-align: right;\n",
       "    }\n",
       "</style>\n",
       "<table border=\"1\" class=\"dataframe\">\n",
       "  <thead>\n",
       "    <tr style=\"text-align: right;\">\n",
       "      <th></th>\n",
       "      <th>text</th>\n",
       "      <th>year</th>\n",
       "      <th>comments</th>\n",
       "      <th>length</th>\n",
       "    </tr>\n",
       "  </thead>\n",
       "  <tbody>\n",
       "  </tbody>\n",
       "</table>\n",
       "</div>"
      ],
      "text/plain": [
       "Empty DataFrame\n",
       "Columns: [text, year, comments, length]\n",
       "Index: []"
      ]
     },
     "execution_count": 183,
     "metadata": {},
     "output_type": "execute_result"
    }
   ],
   "source": [
    "df_final_1111[df_final_1111['year'].isna()]"
   ]
  },
  {
   "cell_type": "markdown",
   "id": "39c2ed80",
   "metadata": {},
   "source": [
    "드디어 결측 없다!!!!!!!!!"
   ]
  },
  {
   "cell_type": "code",
   "execution_count": 187,
   "id": "19e09139",
   "metadata": {},
   "outputs": [
    {
     "data": {
      "text/plain": [
       "text        855\n",
       "year          0\n",
       "comments      0\n",
       "length        0\n",
       "dtype: int64"
      ]
     },
     "execution_count": 187,
     "metadata": {},
     "output_type": "execute_result"
    }
   ],
   "source": [
    "df_final_1111.isna().sum()"
   ]
  },
  {
   "cell_type": "code",
   "execution_count": null,
   "id": "e8002343",
   "metadata": {},
   "outputs": [],
   "source": []
  },
  {
   "cell_type": "code",
   "execution_count": 189,
   "id": "3186cba8",
   "metadata": {},
   "outputs": [],
   "source": [
    "# df_final_1111.to_csv('C:/Users/mrg07/Desktop/real_year_length_1112.csv', index = False)"
   ]
  },
  {
   "cell_type": "code",
   "execution_count": null,
   "id": "6dfad00c",
   "metadata": {},
   "outputs": [],
   "source": []
  },
  {
   "cell_type": "code",
   "execution_count": null,
   "id": "09ea586d",
   "metadata": {},
   "outputs": [],
   "source": []
  }
 ],
 "metadata": {
  "kernelspec": {
   "display_name": "Python 3 (ipykernel)",
   "language": "python",
   "name": "python3"
  },
  "language_info": {
   "codemirror_mode": {
    "name": "ipython",
    "version": 3
   },
   "file_extension": ".py",
   "mimetype": "text/x-python",
   "name": "python",
   "nbconvert_exporter": "python",
   "pygments_lexer": "ipython3",
   "version": "3.10.9"
  }
 },
 "nbformat": 4,
 "nbformat_minor": 5
}
